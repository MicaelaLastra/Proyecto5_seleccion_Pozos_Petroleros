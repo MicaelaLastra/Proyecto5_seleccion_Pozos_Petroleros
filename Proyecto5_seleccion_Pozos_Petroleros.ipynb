{
 "cells": [
  {
   "cell_type": "markdown",
   "metadata": {},
   "source": [
    "# PROYECTO DE APRENDIZAJE AUTOMÁTICO EN NEGOCIOS"
   ]
  },
  {
   "cell_type": "markdown",
   "metadata": {},
   "source": [
    "En este proyecto trabajaremos con los datos de la compañía de extracción de petróleo OilyGiant y nuestro objetivo será encontrar los mejores lugares donde abrir 200 pozos nuevos de petróleo.\n",
    "\n",
    "Para completar esta tarea, tendremos que leer los archivos que contienen los parámetros recogidos de pozos petrolíferos en la región seleccionada: calidad de crudo y volumen de reservas. Posteriormente crearémos un modelo que pueda predecir el volumen de reservas en pozos nuevos y con esta información podrémos elegir los pozos petrolíferos que tienen los valores estimados más altos.\n",
    "\n",
    "Ademas deberemos elegir la región con el beneficio total más alto para los pozos petrolíferos que hemos seleccionado, para lograrlo analizaremos los datos que tenemos sobre muestras de crudo de tres regiones, con esto crearemos un modelo que ayude a elegir la región con el mayor margen de beneficio. \n",
    "\n",
    "Analizaremos los beneficios y riesgos potenciales utilizando la técnica bootstrapping."
   ]
  },
  {
   "cell_type": "markdown",
   "metadata": {},
   "source": [
    "## Descargar y preparar los datos\n",
    "\n",
    "Importamos todas las librerías que vayamos a necesitar en este proyecto y procedemos a cargar nuestros datos asi como a revisar la información contenida en los mismos."
   ]
  },
  {
   "cell_type": "code",
   "execution_count": 3,
   "metadata": {},
   "outputs": [],
   "source": [
    "import pandas as pd\n",
    "from sklearn.model_selection import train_test_split\n",
    "from sklearn.linear_model import LinearRegression\n",
    "from sklearn.metrics import mean_squared_error\n",
    "import numpy as np\n",
    "import matplotlib.pyplot as plt\n",
    "import seaborn as sns\n",
    "from sklearn.preprocessing import StandardScaler"
   ]
  },
  {
   "cell_type": "code",
   "execution_count": 4,
   "metadata": {},
   "outputs": [],
   "source": [
    "df1= pd.read_csv(\"datasets/geo_data_0.csv\")\n",
    "df2= pd.read_csv(\"datasets/geo_data_1.csv\")\n",
    "df3= pd.read_csv(\"datasets/geo_data_2.csv\")"
   ]
  },
  {
   "cell_type": "code",
   "execution_count": 5,
   "metadata": {},
   "outputs": [
    {
     "data": {
      "text/html": [
       "<div>\n",
       "<style scoped>\n",
       "    .dataframe tbody tr th:only-of-type {\n",
       "        vertical-align: middle;\n",
       "    }\n",
       "\n",
       "    .dataframe tbody tr th {\n",
       "        vertical-align: top;\n",
       "    }\n",
       "\n",
       "    .dataframe thead th {\n",
       "        text-align: right;\n",
       "    }\n",
       "</style>\n",
       "<table border=\"1\" class=\"dataframe\">\n",
       "  <thead>\n",
       "    <tr style=\"text-align: right;\">\n",
       "      <th></th>\n",
       "      <th>id</th>\n",
       "      <th>f0</th>\n",
       "      <th>f1</th>\n",
       "      <th>f2</th>\n",
       "      <th>product</th>\n",
       "    </tr>\n",
       "  </thead>\n",
       "  <tbody>\n",
       "    <tr>\n",
       "      <th>0</th>\n",
       "      <td>txEyH</td>\n",
       "      <td>0.705745</td>\n",
       "      <td>-0.497823</td>\n",
       "      <td>1.221170</td>\n",
       "      <td>105.280062</td>\n",
       "    </tr>\n",
       "    <tr>\n",
       "      <th>1</th>\n",
       "      <td>2acmU</td>\n",
       "      <td>1.334711</td>\n",
       "      <td>-0.340164</td>\n",
       "      <td>4.365080</td>\n",
       "      <td>73.037750</td>\n",
       "    </tr>\n",
       "    <tr>\n",
       "      <th>2</th>\n",
       "      <td>409Wp</td>\n",
       "      <td>1.022732</td>\n",
       "      <td>0.151990</td>\n",
       "      <td>1.419926</td>\n",
       "      <td>85.265647</td>\n",
       "    </tr>\n",
       "    <tr>\n",
       "      <th>3</th>\n",
       "      <td>iJLyR</td>\n",
       "      <td>-0.032172</td>\n",
       "      <td>0.139033</td>\n",
       "      <td>2.978566</td>\n",
       "      <td>168.620776</td>\n",
       "    </tr>\n",
       "    <tr>\n",
       "      <th>4</th>\n",
       "      <td>Xdl7t</td>\n",
       "      <td>1.988431</td>\n",
       "      <td>0.155413</td>\n",
       "      <td>4.751769</td>\n",
       "      <td>154.036647</td>\n",
       "    </tr>\n",
       "  </tbody>\n",
       "</table>\n",
       "</div>"
      ],
      "text/plain": [
       "      id        f0        f1        f2     product\n",
       "0  txEyH  0.705745 -0.497823  1.221170  105.280062\n",
       "1  2acmU  1.334711 -0.340164  4.365080   73.037750\n",
       "2  409Wp  1.022732  0.151990  1.419926   85.265647\n",
       "3  iJLyR -0.032172  0.139033  2.978566  168.620776\n",
       "4  Xdl7t  1.988431  0.155413  4.751769  154.036647"
      ]
     },
     "execution_count": 5,
     "metadata": {},
     "output_type": "execute_result"
    }
   ],
   "source": [
    "df1.head()"
   ]
  },
  {
   "cell_type": "code",
   "execution_count": 6,
   "metadata": {},
   "outputs": [
    {
     "name": "stdout",
     "output_type": "stream",
     "text": [
      "<class 'pandas.core.frame.DataFrame'>\n",
      "RangeIndex: 100000 entries, 0 to 99999\n",
      "Data columns (total 5 columns):\n",
      " #   Column   Non-Null Count   Dtype  \n",
      "---  ------   --------------   -----  \n",
      " 0   id       100000 non-null  object \n",
      " 1   f0       100000 non-null  float64\n",
      " 2   f1       100000 non-null  float64\n",
      " 3   f2       100000 non-null  float64\n",
      " 4   product  100000 non-null  float64\n",
      "dtypes: float64(4), object(1)\n",
      "memory usage: 3.8+ MB\n"
     ]
    }
   ],
   "source": [
    "df1.info()"
   ]
  },
  {
   "cell_type": "code",
   "execution_count": 7,
   "metadata": {},
   "outputs": [
    {
     "name": "stdout",
     "output_type": "stream",
     "text": [
      "id         0\n",
      "f0         0\n",
      "f1         0\n",
      "f2         0\n",
      "product    0\n",
      "dtype: int64\n",
      "0\n"
     ]
    }
   ],
   "source": [
    "# Verificar valores nulos\n",
    "print(df1.isnull().sum())\n",
    "\n",
    "# Verificar valores duplicados\n",
    "print(df1.duplicated().sum())\n"
   ]
  },
  {
   "cell_type": "markdown",
   "metadata": {},
   "source": [
    "Respecto a nuestro primer dataframe tenemos lo siguiente:\n",
    "id — identificador único de pozo de petróleo\n",
    "f0, f1, f2 — tres características de los puntos \n",
    "product — volumen de reservas en el pozo de petróleo (miles de barriles).\n",
    "\n",
    "Es importante mencionar que en df1 no tenemos valores duplicados ni tampoco valores nulos por lo que podemos continuar con el desarrollo del proyecto."
   ]
  },
  {
   "cell_type": "code",
   "execution_count": 8,
   "metadata": {},
   "outputs": [
    {
     "data": {
      "text/html": [
       "<div>\n",
       "<style scoped>\n",
       "    .dataframe tbody tr th:only-of-type {\n",
       "        vertical-align: middle;\n",
       "    }\n",
       "\n",
       "    .dataframe tbody tr th {\n",
       "        vertical-align: top;\n",
       "    }\n",
       "\n",
       "    .dataframe thead th {\n",
       "        text-align: right;\n",
       "    }\n",
       "</style>\n",
       "<table border=\"1\" class=\"dataframe\">\n",
       "  <thead>\n",
       "    <tr style=\"text-align: right;\">\n",
       "      <th></th>\n",
       "      <th>id</th>\n",
       "      <th>f0</th>\n",
       "      <th>f1</th>\n",
       "      <th>f2</th>\n",
       "      <th>product</th>\n",
       "    </tr>\n",
       "  </thead>\n",
       "  <tbody>\n",
       "    <tr>\n",
       "      <th>0</th>\n",
       "      <td>kBEdx</td>\n",
       "      <td>-15.001348</td>\n",
       "      <td>-8.276000</td>\n",
       "      <td>-0.005876</td>\n",
       "      <td>3.179103</td>\n",
       "    </tr>\n",
       "    <tr>\n",
       "      <th>1</th>\n",
       "      <td>62mP7</td>\n",
       "      <td>14.272088</td>\n",
       "      <td>-3.475083</td>\n",
       "      <td>0.999183</td>\n",
       "      <td>26.953261</td>\n",
       "    </tr>\n",
       "    <tr>\n",
       "      <th>2</th>\n",
       "      <td>vyE1P</td>\n",
       "      <td>6.263187</td>\n",
       "      <td>-5.948386</td>\n",
       "      <td>5.001160</td>\n",
       "      <td>134.766305</td>\n",
       "    </tr>\n",
       "    <tr>\n",
       "      <th>3</th>\n",
       "      <td>KcrkZ</td>\n",
       "      <td>-13.081196</td>\n",
       "      <td>-11.506057</td>\n",
       "      <td>4.999415</td>\n",
       "      <td>137.945408</td>\n",
       "    </tr>\n",
       "    <tr>\n",
       "      <th>4</th>\n",
       "      <td>AHL4O</td>\n",
       "      <td>12.702195</td>\n",
       "      <td>-8.147433</td>\n",
       "      <td>5.004363</td>\n",
       "      <td>134.766305</td>\n",
       "    </tr>\n",
       "  </tbody>\n",
       "</table>\n",
       "</div>"
      ],
      "text/plain": [
       "      id         f0         f1        f2     product\n",
       "0  kBEdx -15.001348  -8.276000 -0.005876    3.179103\n",
       "1  62mP7  14.272088  -3.475083  0.999183   26.953261\n",
       "2  vyE1P   6.263187  -5.948386  5.001160  134.766305\n",
       "3  KcrkZ -13.081196 -11.506057  4.999415  137.945408\n",
       "4  AHL4O  12.702195  -8.147433  5.004363  134.766305"
      ]
     },
     "execution_count": 8,
     "metadata": {},
     "output_type": "execute_result"
    }
   ],
   "source": [
    "df2.head()"
   ]
  },
  {
   "cell_type": "code",
   "execution_count": 9,
   "metadata": {},
   "outputs": [
    {
     "name": "stdout",
     "output_type": "stream",
     "text": [
      "<class 'pandas.core.frame.DataFrame'>\n",
      "RangeIndex: 100000 entries, 0 to 99999\n",
      "Data columns (total 5 columns):\n",
      " #   Column   Non-Null Count   Dtype  \n",
      "---  ------   --------------   -----  \n",
      " 0   id       100000 non-null  object \n",
      " 1   f0       100000 non-null  float64\n",
      " 2   f1       100000 non-null  float64\n",
      " 3   f2       100000 non-null  float64\n",
      " 4   product  100000 non-null  float64\n",
      "dtypes: float64(4), object(1)\n",
      "memory usage: 3.8+ MB\n"
     ]
    }
   ],
   "source": [
    "df2.info()"
   ]
  },
  {
   "cell_type": "code",
   "execution_count": 10,
   "metadata": {},
   "outputs": [
    {
     "name": "stdout",
     "output_type": "stream",
     "text": [
      "id         0\n",
      "f0         0\n",
      "f1         0\n",
      "f2         0\n",
      "product    0\n",
      "dtype: int64\n",
      "0\n"
     ]
    }
   ],
   "source": [
    "# Verificar valores nulos\n",
    "print(df2.isnull().sum())\n",
    "\n",
    "# Verificar valores duplicados\n",
    "print(df2.duplicated().sum())"
   ]
  },
  {
   "cell_type": "markdown",
   "metadata": {},
   "source": [
    "Respecto a nuestro segundo dataframe tenemos lo siguiente: \n",
    "id — identificador único de pozo de petróleo\n",
    "f0, f1, f2 — tres características de los puntos \n",
    "product — volumen de reservas en el pozo de petróleo (miles de barriles).\n",
    "\n",
    "Es importante mencionar que no tenemos valores duplicados ni tampoco valores nulos por lo que podemos continuar con el desarrollo del proyecto."
   ]
  },
  {
   "cell_type": "code",
   "execution_count": 11,
   "metadata": {},
   "outputs": [
    {
     "data": {
      "text/html": [
       "<div>\n",
       "<style scoped>\n",
       "    .dataframe tbody tr th:only-of-type {\n",
       "        vertical-align: middle;\n",
       "    }\n",
       "\n",
       "    .dataframe tbody tr th {\n",
       "        vertical-align: top;\n",
       "    }\n",
       "\n",
       "    .dataframe thead th {\n",
       "        text-align: right;\n",
       "    }\n",
       "</style>\n",
       "<table border=\"1\" class=\"dataframe\">\n",
       "  <thead>\n",
       "    <tr style=\"text-align: right;\">\n",
       "      <th></th>\n",
       "      <th>id</th>\n",
       "      <th>f0</th>\n",
       "      <th>f1</th>\n",
       "      <th>f2</th>\n",
       "      <th>product</th>\n",
       "    </tr>\n",
       "  </thead>\n",
       "  <tbody>\n",
       "    <tr>\n",
       "      <th>0</th>\n",
       "      <td>fwXo0</td>\n",
       "      <td>-1.146987</td>\n",
       "      <td>0.963328</td>\n",
       "      <td>-0.828965</td>\n",
       "      <td>27.758673</td>\n",
       "    </tr>\n",
       "    <tr>\n",
       "      <th>1</th>\n",
       "      <td>WJtFt</td>\n",
       "      <td>0.262778</td>\n",
       "      <td>0.269839</td>\n",
       "      <td>-2.530187</td>\n",
       "      <td>56.069697</td>\n",
       "    </tr>\n",
       "    <tr>\n",
       "      <th>2</th>\n",
       "      <td>ovLUW</td>\n",
       "      <td>0.194587</td>\n",
       "      <td>0.289035</td>\n",
       "      <td>-5.586433</td>\n",
       "      <td>62.871910</td>\n",
       "    </tr>\n",
       "    <tr>\n",
       "      <th>3</th>\n",
       "      <td>q6cA6</td>\n",
       "      <td>2.236060</td>\n",
       "      <td>-0.553760</td>\n",
       "      <td>0.930038</td>\n",
       "      <td>114.572842</td>\n",
       "    </tr>\n",
       "    <tr>\n",
       "      <th>4</th>\n",
       "      <td>WPMUX</td>\n",
       "      <td>-0.515993</td>\n",
       "      <td>1.716266</td>\n",
       "      <td>5.899011</td>\n",
       "      <td>149.600746</td>\n",
       "    </tr>\n",
       "  </tbody>\n",
       "</table>\n",
       "</div>"
      ],
      "text/plain": [
       "      id        f0        f1        f2     product\n",
       "0  fwXo0 -1.146987  0.963328 -0.828965   27.758673\n",
       "1  WJtFt  0.262778  0.269839 -2.530187   56.069697\n",
       "2  ovLUW  0.194587  0.289035 -5.586433   62.871910\n",
       "3  q6cA6  2.236060 -0.553760  0.930038  114.572842\n",
       "4  WPMUX -0.515993  1.716266  5.899011  149.600746"
      ]
     },
     "execution_count": 11,
     "metadata": {},
     "output_type": "execute_result"
    }
   ],
   "source": [
    "df3.head()"
   ]
  },
  {
   "cell_type": "code",
   "execution_count": 12,
   "metadata": {},
   "outputs": [
    {
     "name": "stdout",
     "output_type": "stream",
     "text": [
      "<class 'pandas.core.frame.DataFrame'>\n",
      "RangeIndex: 100000 entries, 0 to 99999\n",
      "Data columns (total 5 columns):\n",
      " #   Column   Non-Null Count   Dtype  \n",
      "---  ------   --------------   -----  \n",
      " 0   id       100000 non-null  object \n",
      " 1   f0       100000 non-null  float64\n",
      " 2   f1       100000 non-null  float64\n",
      " 3   f2       100000 non-null  float64\n",
      " 4   product  100000 non-null  float64\n",
      "dtypes: float64(4), object(1)\n",
      "memory usage: 3.8+ MB\n"
     ]
    }
   ],
   "source": [
    "df3.info()"
   ]
  },
  {
   "cell_type": "code",
   "execution_count": 13,
   "metadata": {},
   "outputs": [
    {
     "name": "stdout",
     "output_type": "stream",
     "text": [
      "id         0\n",
      "f0         0\n",
      "f1         0\n",
      "f2         0\n",
      "product    0\n",
      "dtype: int64\n",
      "0\n"
     ]
    }
   ],
   "source": [
    "# Verificar valores nulos\n",
    "print(df3.isnull().sum())\n",
    "\n",
    "# Verificar valores duplicados\n",
    "print(df3.duplicated().sum())"
   ]
  },
  {
   "cell_type": "markdown",
   "metadata": {},
   "source": [
    "Respecto a nuestro tercer dataframe tenemos lo siguiente:\n",
    "id — identificador único de pozo de petróleo\n",
    "f0, f1, f2 — tres características de los puntos \n",
    "product — volumen de reservas en el pozo de petróleo (miles de barriles).\n",
    "\n",
    "Es importante mencionar que no tenemos valores duplicados ni tampoco valores nulos por lo que podemos continuar con el desarrollo del proyecto."
   ]
  },
  {
   "cell_type": "markdown",
   "metadata": {},
   "source": [
    "## Entrenar y probar el modelo para cada región en geo_data_0.csv:\n",
    "\n",
    "### Dividir los datos en un conjunto de entrenamiento y un conjunto de validación en una proporción de 75:25."
   ]
  },
  {
   "cell_type": "code",
   "execution_count": 14,
   "metadata": {},
   "outputs": [],
   "source": [
    "features=df1[['f0', 'f1', 'f2']]\n",
    "target= df1['product']\n",
    "features_train, features_valid, target_train, target_valid = train_test_split(features, target, test_size=0.25, random_state=12345)"
   ]
  },
  {
   "cell_type": "code",
   "execution_count": 15,
   "metadata": {},
   "outputs": [],
   "source": [
    "#Ajustar el escalador usando solo los datos de entrenamiento\n",
    "scaler = StandardScaler()\n",
    "scaler.fit(features_train)\n",
    "\n",
    "#Transformar tanto los datos de entrenamiento como los de validación\n",
    "features_train_scaled = scaler.transform(features_train)\n",
    "features_valid_scaled = scaler.transform(features_valid)"
   ]
  },
  {
   "cell_type": "markdown",
   "metadata": {},
   "source": [
    "### Entrenamiento del modelo y predicciones para el conjunto de validación. "
   ]
  },
  {
   "cell_type": "code",
   "execution_count": 16,
   "metadata": {},
   "outputs": [],
   "source": [
    "#Entrenar el modelo de regresión lineal\n",
    "model = LinearRegression()\n",
    "model.fit(features_train, target_train)\n",
    "#Hacer predicciones en el conjunto de validación\n",
    "target_pred = model.predict(features_valid)"
   ]
  },
  {
   "cell_type": "markdown",
   "metadata": {},
   "source": [
    "### Guardar las predicciones y las respuestas correctas para el conjunto de validación."
   ]
  },
  {
   "cell_type": "code",
   "execution_count": 17,
   "metadata": {},
   "outputs": [],
   "source": [
    "predictions = pd.DataFrame({'target_valid': target_valid, 'target_pred': target_pred})"
   ]
  },
  {
   "cell_type": "markdown",
   "metadata": {},
   "source": [
    "### Mostrar el volumen medio de reservas predicho y RMSE del modelo. "
   ]
  },
  {
   "cell_type": "code",
   "execution_count": 18,
   "metadata": {},
   "outputs": [
    {
     "name": "stdout",
     "output_type": "stream",
     "text": [
      "Volumen medio de reservas predicho df 1: 92.59256778438035\n",
      "Error cuadrático medio (RMSE) df 1: 37.5794217150813\n"
     ]
    }
   ],
   "source": [
    "rmse = mean_squared_error(target_valid, target_pred, squared=False)\n",
    "volumen_medio_1 = target_pred.mean()\n",
    "\n",
    "# Mostrar resultados\n",
    "print(f'Volumen medio de reservas predicho df 1: {volumen_medio_1}')\n",
    "print(f'Error cuadrático medio (RMSE) df 1: {rmse}')\n"
   ]
  },
  {
   "cell_type": "markdown",
   "metadata": {},
   "source": [
    "### Analisis los resultados."
   ]
  },
  {
   "cell_type": "markdown",
   "metadata": {},
   "source": [
    "**CONCLUSIONES \"df1\":**\n",
    "\n",
    "De los resultados obtenidos podemos ver que el volumen medio de reservas predicho es de: 92.59256778438035 y el error cuadrático medio (RMSE) del mismo es: 37.5794217150813, eso quiere decir que el volumen predicho por pozo es de 92 mil quinientos noventa y dos barriles, un valor alto, sin embargo el RMSE nos dice que en promedio, las predicciones del modelo se desvían del valor real en unos 37.58 miles de barriles. Teniendo en cuenta el riesgo en lo posterior será importante realizar un analisis más detallado utilizando la técnica del Bootstrapping."
   ]
  },
  {
   "cell_type": "markdown",
   "metadata": {},
   "source": [
    "### Colocar todos los pasos previos en funciones, realizar y ejecutar los pasos 2.1-2.5 para los archivos 'geo_data_1.csv' y 'geo_data_2.csv'."
   ]
  },
  {
   "cell_type": "code",
   "execution_count": 19,
   "metadata": {},
   "outputs": [
    {
     "name": "stdout",
     "output_type": "stream",
     "text": [
      "Resultados para df2:\n",
      "Volumen medio de reservas predicho: 68.728546895446\n",
      "Error cuadrático medio (RMSE): 0.893099286775617\n",
      "---------------------------------------------\n",
      "Resultados para df3:\n",
      "Volumen medio de reservas predicho: 94.96504596800489\n",
      "Error cuadrático medio (RMSE): 40.02970873393434\n",
      "---------------------------------------------\n"
     ]
    }
   ],
   "source": [
    "def dividir_datos(df):\n",
    "    features = df[['f0', 'f1', 'f2']]  \n",
    "    target = df['product']  \n",
    "    features_train, features_valid, target_train, target_valid = train_test_split(features, target, test_size=0.25, random_state=12345)\n",
    "    return features_train, features_valid, target_train, target_valid  \n",
    "\n",
    "def entrenar_modelo(features_train, target_train):\n",
    "    \"\"\"Entrena un modelo de regresión lineal con los datos proporcionados.\"\"\"\n",
    "    model = LinearRegression()\n",
    "    model.fit(features_train, target_train)\n",
    "    return model\n",
    "\n",
    "def predicciones(model, features_valid):\n",
    "    \"\"\"Realiza predicciones con el modelo entrenado.\"\"\"\n",
    "    return model.predict(features_valid)\n",
    "\n",
    "def calcular_métricas(target_valid, target_pred):\n",
    "    \"\"\"Calcula el volumen medio de reservas predicho y el RMSE.\"\"\"\n",
    "    rmse = mean_squared_error(target_valid, target_pred, squared=False)\n",
    "    mean_predicted_volume = target_pred.mean()\n",
    "    return mean_predicted_volume, rmse\n",
    "\n",
    "def proceso_completo(df, nombre_df):\n",
    "    \"\"\"Realiza todo el proceso de entrenamiento, predicción y cálculo de métricas.\"\"\"\n",
    "    features_train, features_valid, target_train, target_valid = dividir_datos(df)\n",
    "    \n",
    "    model = entrenar_modelo(features_train, target_train)\n",
    "    \n",
    "    target_pred = predicciones(model, features_valid)\n",
    "    \n",
    "    mean_predicted_volume, rmse = calcular_métricas(target_valid, target_pred)\n",
    "    \n",
    "    print(f'Resultados para {nombre_df}:')\n",
    "    print(f'Volumen medio de reservas predicho: {mean_predicted_volume}')\n",
    "    print(f'Error cuadrático medio (RMSE): {rmse}')\n",
    "    print('---------------------------------------------') #para poder diferenciar mis respuestas\n",
    "    \n",
    "    return mean_predicted_volume, rmse\n",
    "\n",
    "# Ejecutar el proceso para df2 y df3\n",
    "volumen_medio_2, rmse_2 = proceso_completo(df2, 'df2')\n",
    "volumen_medio_3, rmse_3 = proceso_completo(df3, 'df3')"
   ]
  },
  {
   "cell_type": "markdown",
   "metadata": {},
   "source": [
    "**CONCLUSIONES \"df2\":**\n",
    "\n",
    "De los resultados obtenidos podemos ver que el volumen medio de reservas predicho es de: 68.728546895446 y el error cuadrático medio (RMSE) del mismo es: 0.893099286775617, estos resultados nos indican  que en esta region se tiene un volumen menor a la region anterior y el error cuadrático medio es bastante mas alto, practicamente esta errando en todas las predicciones, teniendo en cuenta el riesgo de estos resultados en lo posterior será importante realizar un analisis más detallado utilizando la técnica del Bootstrapping."
   ]
  },
  {
   "cell_type": "markdown",
   "metadata": {},
   "source": [
    "**CONCLUSIONES \"df3\":**\n",
    "\n",
    "De los resultados obtenidos podemos ver que el volumen medio de reservas predicho es de: 94.96504596800489 y el error cuadrático medio (RMSE) del mismo es: 40.02970873393434, lo que nos permite observar que en esta region se tiene el volumen de reservas más alto de todas, sin embargo; el error cuadrático medio no es bajo por lo que de igual manera debemos considerar el riesgo de usar el modelo en las codiciones en las que está y sera mejor en lo posterior realizar un analisis más detallado utilizando la técnica del Bootstrapping."
   ]
  },
  {
   "cell_type": "markdown",
   "metadata": {},
   "source": [
    "## Cálculo de ganancias:"
   ]
  },
  {
   "cell_type": "markdown",
   "metadata": {},
   "source": [
    "### Almacenar todos los valores necesarios para los cálculos en variables separadas."
   ]
  },
  {
   "cell_type": "code",
   "execution_count": 40,
   "metadata": {},
   "outputs": [],
   "source": [
    "inversion_total = 100000000  # 100 millones de dólares\n",
    "numero_pozos = 200\n",
    "valor_minimo_por_pozo_dolares = 500000  # 500 mil dólares\n",
    "valor_minimo_por_pozo_unidades = valor_minimo_por_pozo_dolares / 4500  # 111.1 unidades (miles de barriles)\n"
   ]
  },
  {
   "cell_type": "markdown",
   "metadata": {},
   "source": [
    "### Dada la inversión de 100 millones por 200 pozos petrolíferos, de media un pozo petrolífero debe producir al menos un valor de 500,000 dólares en unidades para evitar pérdidas (esto es equivalente a 111.1 unidades). Comparacion de esta cantidad con la cantidad media de reservas en cada región. "
   ]
  },
  {
   "cell_type": "code",
   "execution_count": 41,
   "metadata": {},
   "outputs": [
    {
     "name": "stdout",
     "output_type": "stream",
     "text": [
      "En df1, el volumen medio de reservas predicho (92.59 miles de barriles) no es suficiente para evitar pérdidas.\n",
      "En df2, el volumen medio de reservas predicho (68.73 miles de barriles) no es suficiente para evitar pérdidas.\n",
      "En df3, el volumen medio de reservas predicho (94.97 miles de barriles) no es suficiente para evitar pérdidas.\n"
     ]
    }
   ],
   "source": [
    "valor_minimo_por_pozo_unidades = 111.1  # miles de barriles\n",
    "\n",
    "def comparar_volumen_por_region(volumen_medio, nombre_df):\n",
    "    if volumen_medio >= valor_minimo_por_pozo_unidades:\n",
    "        print(f'En {nombre_df}, el volumen medio de reservas predicho ({volumen_medio:.2f} miles de barriles) es suficiente para evitar pérdidas.')\n",
    "    else:\n",
    "        print(f'En {nombre_df}, el volumen medio de reservas predicho ({volumen_medio:.2f} miles de barriles) no es suficiente para evitar pérdidas.')\n",
    "\n",
    "# Comparar para df1, df2, df3\n",
    "comparar_volumen_por_region(volumen_medio_1, 'df1')\n",
    "comparar_volumen_por_region(volumen_medio_2, 'df2')\n",
    "comparar_volumen_por_region(volumen_medio_3, 'df3')\n"
   ]
  },
  {
   "cell_type": "markdown",
   "metadata": {},
   "source": [
    "Los resultados indican que en ninguna de las tres regiones (df1, df2, df3), el volumen medio de reservas predicho es suficiente para evitar pérdidas, los pozos en estas regiones no alcanzan las 111.1 unidades (miles de barriles) mínimas para cubrir con el valor de 500,000 dólares por pozo, esto implica un riesgo para nosotros ya que la inversión de 100 millones de dólares podría no ser rentable en estas condiciones, es algo que debemos tomar muy en cuenta al tomar las decisiones finales sobre la implementación de medidas para el negocio."
   ]
  },
  {
   "cell_type": "markdown",
   "metadata": {},
   "source": [
    "### Conclusiones sobre cómo preparar el paso para calcular el beneficio."
   ]
  },
  {
   "cell_type": "markdown",
   "metadata": {},
   "source": [
    "Como comentamos anteriormente el volumen medio de reservas predicho es menor al mínimo necesario, esto implica que debemos considerar este particular al realizar nuestro cálculo del beneficio, así podremos tener en mente los riesgos asociados y en el futuro podemos planificar estrategias de mitigación, sin embargo, continuando con nuestro proyecto vamos a filtrar y seleccionar los pozos con las mejores predicciones de reservas para concentrar la inversión en los pozos más prometedores y lo realizaremos de la siguiente manera:\n",
    "\n",
    "Primero vamos a calcular el Volumen Total de Reservas, después realizaremos el cálculo del Ingreso Total, compararemos con la Inversión Total los ingresos potenciales para determinar si se alcanza un beneficio o se incurre en pérdidas. "
   ]
  },
  {
   "cell_type": "markdown",
   "metadata": {},
   "source": [
    "## Función para calcular la ganancia de un conjunto de pozos de petróleo seleccionados y modelado de las predicciones:\n",
    "\n",
    "### Elegir los 200 pozos con los valores de predicción más altos de cada una de las 3 regiones (es decir, archivos 'csv').\n"
   ]
  },
  {
   "cell_type": "code",
   "execution_count": 46,
   "metadata": {},
   "outputs": [
    {
     "name": "stdout",
     "output_type": "stream",
     "text": [
      "Ganancia estimada para df1: 39960488.77465129\n",
      "Ganancia estimada para df2: 24857120.51973544\n",
      "Ganancia estimada para df3: 33217543.96243258\n"
     ]
    }
   ],
   "source": [
    "def calcular_ganancia(model, features_valid, inversion_total, precio_por_unidad, numero_pozos=200):\n",
    "    \"\"\"Calcula la ganancia estimada y selecciona los mejores pozos.\"\"\"\n",
    "    # Hacer predicciones usando el modelo entrenado\n",
    "    predicciones = model.predict(features_valid)\n",
    "    \n",
    "    # Seleccionar los 200 pozos con las predicciones más altas\n",
    "    mejores_pozos = np.argsort(predicciones)[-numero_pozos:]  # Obtener los índices de los mejores pozos\n",
    "    \n",
    "    # Calcular el volumen total de reservas de los mejores pozos\n",
    "    volumen_total_reservas = predicciones[mejores_pozos].sum()\n",
    "    \n",
    "    # Calcular la ganancia\n",
    "    ganancia_total = volumen_total_reservas * precio_por_unidad - inversion_total\n",
    "    \n",
    "    return ganancia_total, mejores_pozos\n",
    "\n",
    "# Entrenamiento del modelo para df2 y df3\n",
    "features_train_df2, features_valid_df2, target_train_df2, target_valid_df2 = dividir_datos(df2)\n",
    "model_df2 = entrenar_modelo(features_train_df2, target_train_df2)\n",
    "\n",
    "features_train_df3, features_valid_df3, target_train_df3, target_valid_df3 = dividir_datos(df3)\n",
    "model_df3 = entrenar_modelo(features_train_df3, target_train_df3)\n",
    "\n",
    "# Calcular la ganancia usando los modelos entrenados\n",
    "ganancia_df1, mejores_pozos_df1 = calcular_ganancia(model, features_valid, inversion_total, precio_por_unidad)\n",
    "ganancia_df2, mejores_pozos_df2 = calcular_ganancia(model_df2, features_valid_df2, inversion_total, precio_por_unidad)\n",
    "ganancia_df3, mejores_pozos_df3 = calcular_ganancia(model_df3, features_valid_df3, inversion_total, precio_por_unidad)\n",
    "\n",
    "# Mostrar resultados\n",
    "print(f'Ganancia estimada para df1: {ganancia_df1}')\n",
    "print(f'Ganancia estimada para df2: {ganancia_df2}')\n",
    "print(f'Ganancia estimada para df3: {ganancia_df3}')\n",
    "\n"
   ]
  },
  {
   "cell_type": "markdown",
   "metadata": {},
   "source": [
    "### Resumir el volumen objetivo de reservas según dichas predicciones. Almacenar las predicciones para los 200 pozos para cada una de las 3 regiones."
   ]
  },
  {
   "cell_type": "code",
   "execution_count": 47,
   "metadata": {},
   "outputs": [
    {
     "name": "stdout",
     "output_type": "stream",
     "text": [
      "Volumen objetivo de reservas para los 200 pozos seleccionados en df1: 31102.330838811395 miles de barriles\n",
      "Volumen objetivo de reservas para los 200 pozos seleccionados en df2: 27746.02678216343 miles de barriles\n",
      "Volumen objetivo de reservas para los 200 pozos seleccionados en df3: 29603.89865831835 miles de barriles\n"
     ]
    }
   ],
   "source": [
    "def proceso_completo2(df, nombre_df):\n",
    "    \"\"\"Realiza todo el proceso de entrenamiento, predicción y cálculo de métricas.\"\"\"\n",
    "    features_train, features_valid, target_train, target_valid = dividir_datos(df)\n",
    "    \n",
    "    model = entrenar_modelo(features_train, target_train)\n",
    "    \n",
    "    target_pred = predicciones(model, features_valid)\n",
    "    \n",
    "    mean_predicted_volume, rmse = calcular_métricas(target_valid, target_pred)\n",
    "    \n",
    "    return target_pred, mean_predicted_volume, rmse\n",
    "\n",
    "def calcular_volumen_objetivo(target_pred, n=200):\n",
    "    \"\"\"Selecciona los n pozos con las mayores predicciones y calcula el volumen objetivo de reservas.\"\"\"\n",
    "    # Ordenar las predicciones en orden descendente y seleccionar los 200 pozos con las predicciones más altas\n",
    "    top_pred_indices = np.argsort(target_pred)[-n:]\n",
    "    top_predicciones = target_pred[top_pred_indices]\n",
    "    volumen_objetivo_reservas = top_predicciones.sum()\n",
    "    return volumen_objetivo_reservas, top_predicciones\n",
    "\n",
    "# Ejecutar el proceso para df1, df2 y df3\n",
    "target_pred_df1, _, _ = proceso_completo2(df1, 'df1')\n",
    "target_pred_df2, _, _ = proceso_completo2(df2, 'df2')\n",
    "target_pred_df3, _, _ = proceso_completo2(df3, 'df3')\n",
    "\n",
    "# Calcular el volumen objetivo de reservas para los 200 pozos con mayores predicciones en cada DataFrame\n",
    "volumen_objetivo_df1, mejores_pozos_df1 = calcular_volumen_objetivo(target_pred_df1)\n",
    "volumen_objetivo_df2, mejores_pozos_df2 = calcular_volumen_objetivo(target_pred_df2)\n",
    "volumen_objetivo_df3, mejores_pozos_df3 = calcular_volumen_objetivo(target_pred_df3)\n",
    "\n",
    "print(f'Volumen objetivo de reservas para los 200 pozos seleccionados en df1: {volumen_objetivo_df1} miles de barriles')\n",
    "print(f'Volumen objetivo de reservas para los 200 pozos seleccionados en df2: {volumen_objetivo_df2} miles de barriles')\n",
    "print(f'Volumen objetivo de reservas para los 200 pozos seleccionados en df3: {volumen_objetivo_df3} miles de barriles')\n",
    "\n",
    "# Almacenar las predicciones para los 200 pozos con mayores predicciones\n",
    "predicciones_df1 = pd.DataFrame({'target_pred': mejores_pozos_df1})\n",
    "predicciones_df2 = pd.DataFrame({'target_pred': mejores_pozos_df2})\n",
    "predicciones_df3 = pd.DataFrame({'target_pred': mejores_pozos_df3})\n"
   ]
  },
  {
   "cell_type": "markdown",
   "metadata": {},
   "source": [
    "### Calcular la ganancia potencial de los 200 pozos principales por región. Presentacion de conclusiones: proposición de una región para el desarrollo de pozos petrolíferos y justificación de elección."
   ]
  },
  {
   "cell_type": "code",
   "execution_count": 48,
   "metadata": {},
   "outputs": [
    {
     "name": "stdout",
     "output_type": "stream",
     "text": [
      "Ganancia potencial para los 200 pozos principales en df1: $39,960,488.77\n",
      "Ganancia potencial para los 200 pozos principales en df2: $24,857,120.52\n",
      "Ganancia potencial para los 200 pozos principales en df3: $33,217,543.96\n"
     ]
    }
   ],
   "source": [
    "def calcular_ganancia_potencial(volumen_objetivo_reservas, precio_por_unidad, inversion_total):\n",
    "    \"\"\"Calcula la ganancia potencial dado el volumen objetivo de reservas y el precio por unidad.\"\"\"\n",
    "    valor_total = volumen_objetivo_reservas * precio_por_unidad  # Valor total en dólares\n",
    "    ganancia_potencial = valor_total - inversion_total  # Ganancia potencial\n",
    "    return ganancia_potencial\n",
    "\n",
    "# Calcular la ganancia potencial para los 200 pozos principales en cada región\n",
    "ganancia_potencial_df1 = calcular_ganancia_potencial(volumen_objetivo_df1, precio_por_unidad, inversion_total)\n",
    "ganancia_potencial_df2 = calcular_ganancia_potencial(volumen_objetivo_df2, precio_por_unidad, inversion_total)\n",
    "ganancia_potencial_df3 = calcular_ganancia_potencial(volumen_objetivo_df3, precio_por_unidad, inversion_total)\n",
    "\n",
    "print(f'Ganancia potencial para los 200 pozos principales en df1: ${ganancia_potencial_df1:,.2f}')\n",
    "print(f'Ganancia potencial para los 200 pozos principales en df2: ${ganancia_potencial_df2:,.2f}')\n",
    "print(f'Ganancia potencial para los 200 pozos principales en df3: ${ganancia_potencial_df3:,.2f}')\n"
   ]
  },
  {
   "cell_type": "markdown",
   "metadata": {},
   "source": [
    "La region 1 parece ser la región indicada para el desarrollo del pozos petroleros ya que los resultados nos muestran que esta tendría la mayor ganancia para nuestra empresa al poder sacar mas barriles tambien de petroleo al mercado."
   ]
  },
  {
   "cell_type": "markdown",
   "metadata": {},
   "source": [
    "## Calcular riesgos y ganancias para cada región:\n",
    "\n",
    "### Utilizando las predicciones en el paso 4.2, emplearé la técnica del bootstrapping con 1000 muestras para hallar la distribución de los beneficios."
   ]
  },
  {
   "cell_type": "code",
   "execution_count": 49,
   "metadata": {},
   "outputs": [],
   "source": [
    "numero_muestras = 1000  # Número de muestras para el bootstrapping\n",
    "def calcular_beneficio(predicciones, precio_por_unidad, inversion_total):\n",
    "    \"\"\"Calcula el beneficio a partir de las predicciones.\"\"\"\n",
    "    return (predicciones * precio_por_unidad).sum() - inversion_total\n",
    "\n",
    "def bootstrap_beneficios(predicciones, numero_muestras, precio_por_unidad, inversion_total):\n",
    "    \"\"\"Realiza bootstrapping para estimar la distribución de beneficios.\"\"\"\n",
    "    beneficios = [calcular_beneficio(np.random.choice(predicciones, size=len(predicciones), replace=True),\n",
    "                                     precio_por_unidad, inversion_total) for _ in range(numero_muestras)]\n",
    "    return np.array(beneficios)\n",
    "\n",
    "# Realizar bootstrapping para df1, df2 y df3\n",
    "beneficios_df1 = bootstrap_beneficios(predicciones_df1['target_pred'], numero_muestras, precio_por_unidad, inversion_total)\n",
    "beneficios_df2 = bootstrap_beneficios(predicciones_df2['target_pred'], numero_muestras, precio_por_unidad, inversion_total)\n",
    "beneficios_df3 = bootstrap_beneficios(predicciones_df3['target_pred'], numero_muestras, precio_por_unidad, inversion_total)"
   ]
  },
  {
   "cell_type": "markdown",
   "metadata": {},
   "source": [
    "### Encontrar el beneficio promedio, el intervalo de confianza del 95% y el riesgo de pérdidas. La pérdida es una ganancia negativa, calcúlada como una probabilidad y luego exprésada como un porcentaje."
   ]
  },
  {
   "cell_type": "code",
   "execution_count": 50,
   "metadata": {},
   "outputs": [
    {
     "name": "stdout",
     "output_type": "stream",
     "text": [
      "Resumen de beneficios para df1:\n",
      "Beneficio promedio: 39961606.12669901\n",
      "Intervalo de confianza 95%: [39162485.12669949 40734295.76571938]\n",
      "Riesgo de pérdidas (%): 0.0\n",
      "\n",
      "Resumen de beneficios para df2:\n",
      "Beneficio promedio: 24858318.17197824\n",
      "Intervalo de confianza 95%: [24823324.42102553 24892884.93713671]\n",
      "Riesgo de pérdidas (%): 0.0\n",
      "\n",
      "Resumen de beneficios para df3:\n",
      "Beneficio promedio: 33210478.019699425\n",
      "Intervalo de confianza 95%: [32539481.6861584  33917539.64849491]\n",
      "Riesgo de pérdidas (%): 0.0\n"
     ]
    }
   ],
   "source": [
    "def resumen_beneficios(beneficios):\n",
    "    \"\"\"Calcula estadísticas descriptivas para la distribución de beneficios.\"\"\"\n",
    "    beneficio_promedio = beneficios.mean()\n",
    "    intervalo_confianza_95 = np.percentile(beneficios, [2.5, 97.5])\n",
    "    riesgo_de_perdidas = (beneficios < 0).mean() * 100  # Proporción de beneficios negativos como porcentaje\n",
    "    \n",
    "    return {\n",
    "        'Beneficio promedio': beneficio_promedio,\n",
    "        'Intervalo de confianza 95%': intervalo_confianza_95,\n",
    "        'Riesgo de pérdidas (%)': riesgo_de_perdidas\n",
    "    }\n",
    "\n",
    "# Obtener resúmenes\n",
    "resumen_df1 = resumen_beneficios(beneficios_df1)\n",
    "resumen_df2 = resumen_beneficios(beneficios_df2)\n",
    "resumen_df3 = resumen_beneficios(beneficios_df3)\n",
    "\n",
    "# Imprimir resultados\n",
    "print(f'Resumen de beneficios para df1:')\n",
    "for key, value in resumen_df1.items():\n",
    "    print(f'{key}: {value}')\n",
    "\n",
    "print(f'\\nResumen de beneficios para df2:')\n",
    "for key, value in resumen_df2.items():\n",
    "    print(f'{key}: {value}')\n",
    "\n",
    "print(f'\\nResumen de beneficios para df3:')\n",
    "for key, value in resumen_df3.items():\n",
    "    print(f'{key}: {value}')\n"
   ]
  },
  {
   "cell_type": "markdown",
   "metadata": {},
   "source": [
    "### Conclusiones"
   ]
  },
  {
   "cell_type": "markdown",
   "metadata": {},
   "source": [
    "Mi elección sigue siendo la región 1 al igual que en el punto 4.3, ya que las ganacias son superiores. En la región df1 existe el beneficio promedio más alto: $39,961,606.13 y un intervalo de confianza estrecho, lo que indica que es la región más rentable y con un riesgo mínimo. Esto la convierte en la mejor opción segun lo que hemos analizado. Aunque df3 también tiene un beneficio significativo, es menor que en df1. El intervalo de confianza es razonablemente estrecho, lo que indica una estabilidad en las predicciones, pero es menos atractiva que df1 en términos de ganancias, por último df2 tiene el beneficio promedio más bajo y un intervalo de confianza muy estrecho, lo que indica una alta precisión en las predicciones, pero es la menos rentable de las tres regiones.\n",
    "\n",
    "Conclusión Final:\n",
    "La región df1 es la mejor opción para la inversión, ya que ofrece el mayor beneficio promedio con un riesgo de pérdidas nulo. La estabilidad de las predicciones dentro del intervalo de confianza también es un punto a favor, asegurando que las ganancias proyectadas son confiables."
   ]
  }
 ],
 "metadata": {
  "ExecuteTimeLog": [
   {
    "duration": 5,
    "start_time": "2024-08-05T13:41:35.861Z"
   },
   {
    "duration": 4,
    "start_time": "2024-08-05T13:41:37.341Z"
   },
   {
    "duration": 1172,
    "start_time": "2024-08-05T13:43:23.125Z"
   },
   {
    "duration": 128,
    "start_time": "2024-08-05T13:43:39.952Z"
   },
   {
    "duration": 126,
    "start_time": "2024-08-05T13:45:42.883Z"
   },
   {
    "duration": 293,
    "start_time": "2024-08-05T13:46:00.637Z"
   },
   {
    "duration": 421,
    "start_time": "2024-08-05T13:46:07.139Z"
   },
   {
    "duration": 431,
    "start_time": "2024-08-05T13:46:11.963Z"
   },
   {
    "duration": 19,
    "start_time": "2024-08-05T13:46:21.265Z"
   },
   {
    "duration": 20,
    "start_time": "2024-08-05T13:46:29.089Z"
   },
   {
    "duration": 16,
    "start_time": "2024-08-05T13:46:34.873Z"
   },
   {
    "duration": 20,
    "start_time": "2024-08-05T13:46:40.787Z"
   },
   {
    "duration": 14,
    "start_time": "2024-08-05T13:46:45.709Z"
   },
   {
    "duration": 20,
    "start_time": "2024-08-05T13:46:49.616Z"
   },
   {
    "duration": 10,
    "start_time": "2024-08-05T14:26:28.034Z"
   },
   {
    "duration": 12,
    "start_time": "2024-08-05T14:26:52.328Z"
   },
   {
    "duration": 43,
    "start_time": "2024-08-05T15:09:29.549Z"
   },
   {
    "duration": 26,
    "start_time": "2024-08-05T15:10:15.244Z"
   },
   {
    "duration": 124,
    "start_time": "2024-08-05T15:10:24.300Z"
   },
   {
    "duration": 35,
    "start_time": "2024-08-05T15:10:27.550Z"
   },
   {
    "duration": 2143,
    "start_time": "2024-08-05T15:10:31.995Z"
   },
   {
    "duration": 191,
    "start_time": "2024-08-05T15:11:19.183Z"
   },
   {
    "duration": 662,
    "start_time": "2024-08-05T15:11:29.218Z"
   },
   {
    "duration": 65,
    "start_time": "2024-08-05T15:12:12.202Z"
   },
   {
    "duration": 440,
    "start_time": "2024-08-05T15:16:23.254Z"
   },
   {
    "duration": 11,
    "start_time": "2024-08-05T15:17:48.151Z"
   },
   {
    "duration": 67,
    "start_time": "2024-08-05T15:18:18.261Z"
   },
   {
    "duration": 61,
    "start_time": "2024-08-05T15:18:33.949Z"
   },
   {
    "duration": 33,
    "start_time": "2024-08-05T15:19:29.596Z"
   },
   {
    "duration": 38,
    "start_time": "2024-08-05T15:19:36.667Z"
   },
   {
    "duration": 35,
    "start_time": "2024-08-05T15:20:01.681Z"
   },
   {
    "duration": 63,
    "start_time": "2024-08-05T15:20:13.468Z"
   },
   {
    "duration": 5,
    "start_time": "2024-08-05T15:39:49.571Z"
   },
   {
    "duration": 308,
    "start_time": "2024-08-06T18:47:48.894Z"
   },
   {
    "duration": 5384,
    "start_time": "2024-08-06T18:52:35.791Z"
   },
   {
    "duration": 506,
    "start_time": "2024-08-06T18:52:41.179Z"
   },
   {
    "duration": 19,
    "start_time": "2024-08-06T18:52:41.687Z"
   },
   {
    "duration": 33,
    "start_time": "2024-08-06T18:52:41.710Z"
   },
   {
    "duration": 96,
    "start_time": "2024-08-06T18:52:41.746Z"
   },
   {
    "duration": 13,
    "start_time": "2024-08-06T18:52:41.846Z"
   },
   {
    "duration": 19,
    "start_time": "2024-08-06T18:52:41.863Z"
   },
   {
    "duration": 95,
    "start_time": "2024-08-06T18:52:41.885Z"
   },
   {
    "duration": 14,
    "start_time": "2024-08-06T18:52:41.983Z"
   },
   {
    "duration": 19,
    "start_time": "2024-08-06T18:52:42.030Z"
   },
   {
    "duration": 99,
    "start_time": "2024-08-06T18:52:42.053Z"
   },
   {
    "duration": 20,
    "start_time": "2024-08-06T18:52:42.156Z"
   },
   {
    "duration": 252,
    "start_time": "2024-08-06T18:55:14.000Z"
   },
   {
    "duration": 15,
    "start_time": "2024-08-06T18:55:26.759Z"
   },
   {
    "duration": 33,
    "start_time": "2024-08-06T18:55:31.426Z"
   },
   {
    "duration": 8,
    "start_time": "2024-08-06T18:55:40.035Z"
   },
   {
    "duration": 36,
    "start_time": "2024-08-06T18:55:43.133Z"
   },
   {
    "duration": 7,
    "start_time": "2024-08-06T18:56:05.482Z"
   },
   {
    "duration": 19,
    "start_time": "2024-08-06T19:16:13.227Z"
   },
   {
    "duration": 17,
    "start_time": "2024-08-06T19:16:57.924Z"
   },
   {
    "duration": 4,
    "start_time": "2024-08-06T19:17:26.365Z"
   },
   {
    "duration": 7,
    "start_time": "2024-08-06T19:17:57.406Z"
   },
   {
    "duration": 5146,
    "start_time": "2024-08-07T15:04:04.160Z"
   },
   {
    "duration": 506,
    "start_time": "2024-08-07T15:04:09.311Z"
   },
   {
    "duration": 18,
    "start_time": "2024-08-07T15:04:09.820Z"
   },
   {
    "duration": 19,
    "start_time": "2024-08-07T15:04:09.844Z"
   },
   {
    "duration": 72,
    "start_time": "2024-08-07T15:04:09.890Z"
   },
   {
    "duration": 32,
    "start_time": "2024-08-07T15:04:09.966Z"
   },
   {
    "duration": 20,
    "start_time": "2024-08-07T15:04:10.002Z"
   },
   {
    "duration": 96,
    "start_time": "2024-08-07T15:04:10.025Z"
   },
   {
    "duration": 14,
    "start_time": "2024-08-07T15:04:10.123Z"
   },
   {
    "duration": 19,
    "start_time": "2024-08-07T15:04:10.142Z"
   },
   {
    "duration": 92,
    "start_time": "2024-08-07T15:04:10.163Z"
   },
   {
    "duration": 42,
    "start_time": "2024-08-07T15:04:10.258Z"
   },
   {
    "duration": 24,
    "start_time": "2024-08-07T15:04:10.303Z"
   },
   {
    "duration": 61,
    "start_time": "2024-08-07T15:04:10.330Z"
   },
   {
    "duration": 6,
    "start_time": "2024-08-07T15:04:10.394Z"
   },
   {
    "duration": 19,
    "start_time": "2024-08-07T15:04:11.283Z"
   },
   {
    "duration": 16,
    "start_time": "2024-08-07T15:04:11.563Z"
   },
   {
    "duration": 5,
    "start_time": "2024-08-07T15:04:11.858Z"
   },
   {
    "duration": 7,
    "start_time": "2024-08-07T15:04:12.139Z"
   },
   {
    "duration": 25,
    "start_time": "2024-08-07T15:05:30.395Z"
   },
   {
    "duration": 17,
    "start_time": "2024-08-07T15:06:07.883Z"
   },
   {
    "duration": 5,
    "start_time": "2024-08-07T15:06:37.817Z"
   },
   {
    "duration": 8,
    "start_time": "2024-08-07T15:07:11.328Z"
   },
   {
    "duration": 6,
    "start_time": "2024-08-07T15:07:27.321Z"
   },
   {
    "duration": 7,
    "start_time": "2024-08-07T15:07:40.408Z"
   },
   {
    "duration": 6,
    "start_time": "2024-08-07T15:07:55.599Z"
   },
   {
    "duration": 477,
    "start_time": "2024-08-07T15:31:25.326Z"
   },
   {
    "duration": 307,
    "start_time": "2024-08-07T19:20:46.310Z"
   },
   {
    "duration": 5195,
    "start_time": "2024-08-07T19:21:12.162Z"
   },
   {
    "duration": 492,
    "start_time": "2024-08-07T19:21:17.360Z"
   },
   {
    "duration": 16,
    "start_time": "2024-08-07T19:21:17.855Z"
   },
   {
    "duration": 19,
    "start_time": "2024-08-07T19:21:17.875Z"
   },
   {
    "duration": 86,
    "start_time": "2024-08-07T19:21:17.897Z"
   },
   {
    "duration": 13,
    "start_time": "2024-08-07T19:21:17.986Z"
   },
   {
    "duration": 37,
    "start_time": "2024-08-07T19:21:18.002Z"
   },
   {
    "duration": 64,
    "start_time": "2024-08-07T19:21:18.042Z"
   },
   {
    "duration": 13,
    "start_time": "2024-08-07T19:21:18.132Z"
   },
   {
    "duration": 18,
    "start_time": "2024-08-07T19:21:18.150Z"
   },
   {
    "duration": 94,
    "start_time": "2024-08-07T19:21:18.170Z"
   },
   {
    "duration": 18,
    "start_time": "2024-08-07T19:21:18.268Z"
   },
   {
    "duration": 51,
    "start_time": "2024-08-07T19:21:18.289Z"
   },
   {
    "duration": 5,
    "start_time": "2024-08-07T19:21:18.342Z"
   },
   {
    "duration": 82,
    "start_time": "2024-08-07T19:21:18.350Z"
   },
   {
    "duration": 18,
    "start_time": "2024-08-07T19:21:19.874Z"
   },
   {
    "duration": 14,
    "start_time": "2024-08-07T19:21:20.338Z"
   },
   {
    "duration": 5,
    "start_time": "2024-08-07T19:21:20.753Z"
   },
   {
    "duration": 7,
    "start_time": "2024-08-07T19:21:21.314Z"
   },
   {
    "duration": 22,
    "start_time": "2024-08-07T19:21:22.530Z"
   },
   {
    "duration": 14,
    "start_time": "2024-08-07T19:21:22.956Z"
   },
   {
    "duration": 5,
    "start_time": "2024-08-07T19:21:23.422Z"
   },
   {
    "duration": 6,
    "start_time": "2024-08-07T19:21:23.954Z"
   },
   {
    "duration": 6,
    "start_time": "2024-08-07T19:21:26.763Z"
   },
   {
    "duration": 5,
    "start_time": "2024-08-07T19:22:11.724Z"
   },
   {
    "duration": 5086,
    "start_time": "2024-08-08T13:51:47.796Z"
   },
   {
    "duration": 497,
    "start_time": "2024-08-08T13:51:52.886Z"
   },
   {
    "duration": 17,
    "start_time": "2024-08-08T13:51:53.385Z"
   },
   {
    "duration": 35,
    "start_time": "2024-08-08T13:51:53.406Z"
   },
   {
    "duration": 64,
    "start_time": "2024-08-08T13:51:53.443Z"
   },
   {
    "duration": 33,
    "start_time": "2024-08-08T13:51:53.510Z"
   },
   {
    "duration": 17,
    "start_time": "2024-08-08T13:51:53.547Z"
   },
   {
    "duration": 97,
    "start_time": "2024-08-08T13:51:53.567Z"
   },
   {
    "duration": 11,
    "start_time": "2024-08-08T13:51:53.668Z"
   },
   {
    "duration": 18,
    "start_time": "2024-08-08T13:51:53.685Z"
   },
   {
    "duration": 64,
    "start_time": "2024-08-08T13:51:53.736Z"
   },
   {
    "duration": 40,
    "start_time": "2024-08-08T13:51:53.803Z"
   },
   {
    "duration": 26,
    "start_time": "2024-08-08T13:51:53.846Z"
   },
   {
    "duration": 5,
    "start_time": "2024-08-08T13:51:53.935Z"
   },
   {
    "duration": 7,
    "start_time": "2024-08-08T13:51:53.944Z"
   },
   {
    "duration": 19,
    "start_time": "2024-08-08T13:51:55.074Z"
   },
   {
    "duration": 15,
    "start_time": "2024-08-08T13:51:55.271Z"
   },
   {
    "duration": 4,
    "start_time": "2024-08-08T13:51:55.488Z"
   },
   {
    "duration": 6,
    "start_time": "2024-08-08T13:51:55.717Z"
   },
   {
    "duration": 20,
    "start_time": "2024-08-08T13:51:56.348Z"
   },
   {
    "duration": 14,
    "start_time": "2024-08-08T13:51:56.664Z"
   },
   {
    "duration": 4,
    "start_time": "2024-08-08T13:51:57.075Z"
   },
   {
    "duration": 6,
    "start_time": "2024-08-08T13:51:57.182Z"
   },
   {
    "duration": 3,
    "start_time": "2024-08-08T13:51:57.847Z"
   },
   {
    "duration": 4,
    "start_time": "2024-08-08T13:51:59.184Z"
   },
   {
    "duration": 485,
    "start_time": "2024-08-08T13:53:54.244Z"
   },
   {
    "duration": 10,
    "start_time": "2024-08-08T13:54:21.509Z"
   },
   {
    "duration": 7,
    "start_time": "2024-08-08T13:56:47.665Z"
   },
   {
    "duration": 7,
    "start_time": "2024-08-08T13:56:57.697Z"
   },
   {
    "duration": 5,
    "start_time": "2024-08-08T13:58:24.983Z"
   },
   {
    "duration": 7,
    "start_time": "2024-08-08T13:58:31.591Z"
   },
   {
    "duration": 8,
    "start_time": "2024-08-08T13:59:31.710Z"
   },
   {
    "duration": 7,
    "start_time": "2024-08-08T14:00:06.262Z"
   },
   {
    "duration": 9,
    "start_time": "2024-08-08T14:06:51.563Z"
   },
   {
    "duration": 9,
    "start_time": "2024-08-08T14:07:22.505Z"
   },
   {
    "duration": 8,
    "start_time": "2024-08-08T14:10:43.870Z"
   },
   {
    "duration": 7,
    "start_time": "2024-08-08T14:10:51.172Z"
   },
   {
    "duration": 13,
    "start_time": "2024-08-08T14:11:16.864Z"
   },
   {
    "duration": 12,
    "start_time": "2024-08-08T14:11:33.155Z"
   },
   {
    "duration": 9,
    "start_time": "2024-08-08T14:12:10.531Z"
   },
   {
    "duration": 12,
    "start_time": "2024-08-08T14:12:54.836Z"
   },
   {
    "duration": 8,
    "start_time": "2024-08-08T14:13:04.660Z"
   },
   {
    "duration": 7,
    "start_time": "2024-08-08T14:13:11.276Z"
   },
   {
    "duration": 7,
    "start_time": "2024-08-08T14:13:48.138Z"
   },
   {
    "duration": 5133,
    "start_time": "2024-08-12T14:21:21.470Z"
   },
   {
    "duration": 478,
    "start_time": "2024-08-12T14:21:26.607Z"
   },
   {
    "duration": 16,
    "start_time": "2024-08-12T14:21:27.088Z"
   },
   {
    "duration": 30,
    "start_time": "2024-08-12T14:21:27.110Z"
   },
   {
    "duration": 61,
    "start_time": "2024-08-12T14:21:27.143Z"
   },
   {
    "duration": 28,
    "start_time": "2024-08-12T14:21:27.207Z"
   },
   {
    "duration": 18,
    "start_time": "2024-08-12T14:21:27.238Z"
   },
   {
    "duration": 91,
    "start_time": "2024-08-12T14:21:27.258Z"
   },
   {
    "duration": 13,
    "start_time": "2024-08-12T14:21:27.352Z"
   },
   {
    "duration": 18,
    "start_time": "2024-08-12T14:21:27.370Z"
   },
   {
    "duration": 97,
    "start_time": "2024-08-12T14:21:27.391Z"
   },
   {
    "duration": 17,
    "start_time": "2024-08-12T14:21:27.490Z"
   },
   {
    "duration": 41,
    "start_time": "2024-08-12T14:21:27.510Z"
   },
   {
    "duration": 77,
    "start_time": "2024-08-12T14:21:27.554Z"
   },
   {
    "duration": 7,
    "start_time": "2024-08-12T14:21:27.633Z"
   },
   {
    "duration": 95,
    "start_time": "2024-08-12T14:21:27.643Z"
   },
   {
    "duration": 15,
    "start_time": "2024-08-12T14:21:27.740Z"
   },
   {
    "duration": 5,
    "start_time": "2024-08-12T14:21:27.757Z"
   },
   {
    "duration": 66,
    "start_time": "2024-08-12T14:21:27.764Z"
   },
   {
    "duration": 96,
    "start_time": "2024-08-12T14:21:27.838Z"
   },
   {
    "duration": 15,
    "start_time": "2024-08-12T14:21:28.065Z"
   },
   {
    "duration": 4,
    "start_time": "2024-08-12T14:21:28.290Z"
   },
   {
    "duration": 6,
    "start_time": "2024-08-12T14:21:28.503Z"
   },
   {
    "duration": 4,
    "start_time": "2024-08-12T14:21:29.163Z"
   },
   {
    "duration": 8,
    "start_time": "2024-08-12T14:21:29.644Z"
   },
   {
    "duration": 10,
    "start_time": "2024-08-12T14:21:29.865Z"
   },
   {
    "duration": 7,
    "start_time": "2024-08-12T14:21:30.081Z"
   },
   {
    "duration": 9,
    "start_time": "2024-08-12T14:21:31.698Z"
   },
   {
    "duration": 8,
    "start_time": "2024-08-12T14:21:32.146Z"
   },
   {
    "duration": 8,
    "start_time": "2024-08-12T14:21:32.625Z"
   },
   {
    "duration": 7,
    "start_time": "2024-08-12T14:21:33.377Z"
   },
   {
    "duration": 7,
    "start_time": "2024-08-12T14:21:33.715Z"
   },
   {
    "duration": 7,
    "start_time": "2024-08-12T14:21:34.016Z"
   },
   {
    "duration": 13,
    "start_time": "2024-08-12T14:25:02.410Z"
   },
   {
    "duration": 67,
    "start_time": "2024-08-12T14:30:45.073Z"
   },
   {
    "duration": 64,
    "start_time": "2024-08-12T14:31:05.012Z"
   },
   {
    "duration": 485,
    "start_time": "2024-08-12T14:31:09.550Z"
   },
   {
    "duration": 69,
    "start_time": "2024-08-12T14:31:34.997Z"
   },
   {
    "duration": 75,
    "start_time": "2024-08-12T14:31:46.099Z"
   },
   {
    "duration": 72,
    "start_time": "2024-08-12T14:32:05.195Z"
   },
   {
    "duration": 68,
    "start_time": "2024-08-12T14:32:12.731Z"
   },
   {
    "duration": 7,
    "start_time": "2024-08-12T16:40:48.476Z"
   },
   {
    "duration": 52,
    "start_time": "2024-08-12T16:41:38.649Z"
   },
   {
    "duration": 59,
    "start_time": "2024-08-12T16:41:52.195Z"
   },
   {
    "duration": 73,
    "start_time": "2024-08-12T16:41:59.905Z"
   },
   {
    "duration": 323,
    "start_time": "2024-08-13T14:57:50.812Z"
   },
   {
    "duration": 5354,
    "start_time": "2024-08-13T14:57:57.618Z"
   },
   {
    "duration": 604,
    "start_time": "2024-08-13T14:58:02.976Z"
   },
   {
    "duration": 18,
    "start_time": "2024-08-13T14:58:03.583Z"
   },
   {
    "duration": 21,
    "start_time": "2024-08-13T14:58:03.608Z"
   },
   {
    "duration": 95,
    "start_time": "2024-08-13T14:58:03.632Z"
   },
   {
    "duration": 15,
    "start_time": "2024-08-13T14:58:03.730Z"
   },
   {
    "duration": 19,
    "start_time": "2024-08-13T14:58:03.749Z"
   },
   {
    "duration": 96,
    "start_time": "2024-08-13T14:58:03.771Z"
   },
   {
    "duration": 37,
    "start_time": "2024-08-13T14:58:03.871Z"
   },
   {
    "duration": 19,
    "start_time": "2024-08-13T14:58:03.913Z"
   },
   {
    "duration": 100,
    "start_time": "2024-08-13T14:58:03.935Z"
   },
   {
    "duration": 21,
    "start_time": "2024-08-13T14:58:04.037Z"
   },
   {
    "duration": 52,
    "start_time": "2024-08-13T14:58:04.061Z"
   },
   {
    "duration": 5,
    "start_time": "2024-08-13T14:58:04.116Z"
   },
   {
    "duration": 87,
    "start_time": "2024-08-13T14:58:04.128Z"
   },
   {
    "duration": 35,
    "start_time": "2024-08-13T14:58:08.804Z"
   },
   {
    "duration": 39,
    "start_time": "2024-08-13T14:58:24.535Z"
   },
   {
    "duration": 34,
    "start_time": "2024-08-13T14:59:06.389Z"
   },
   {
    "duration": 323,
    "start_time": "2024-08-14T14:27:22.620Z"
   },
   {
    "duration": 5342,
    "start_time": "2024-08-14T14:27:28.743Z"
   },
   {
    "duration": 485,
    "start_time": "2024-08-14T14:27:34.090Z"
   },
   {
    "duration": 28,
    "start_time": "2024-08-14T14:27:34.578Z"
   },
   {
    "duration": 19,
    "start_time": "2024-08-14T14:27:34.609Z"
   },
   {
    "duration": 88,
    "start_time": "2024-08-14T14:27:34.632Z"
   },
   {
    "duration": 13,
    "start_time": "2024-08-14T14:27:34.723Z"
   },
   {
    "duration": 18,
    "start_time": "2024-08-14T14:27:34.739Z"
   },
   {
    "duration": 89,
    "start_time": "2024-08-14T14:27:34.760Z"
   },
   {
    "duration": 13,
    "start_time": "2024-08-14T14:27:34.852Z"
   },
   {
    "duration": 46,
    "start_time": "2024-08-14T14:27:34.871Z"
   },
   {
    "duration": 63,
    "start_time": "2024-08-14T14:27:34.920Z"
   },
   {
    "duration": 23,
    "start_time": "2024-08-14T14:27:35.007Z"
   },
   {
    "duration": 74,
    "start_time": "2024-08-14T14:27:35.033Z"
   },
   {
    "duration": 5,
    "start_time": "2024-08-14T14:27:35.266Z"
   },
   {
    "duration": 5,
    "start_time": "2024-08-14T14:27:35.664Z"
   },
   {
    "duration": 178,
    "start_time": "2024-08-14T14:27:37.957Z"
   },
   {
    "duration": 76,
    "start_time": "2024-08-14T14:31:37.202Z"
   },
   {
    "duration": 63,
    "start_time": "2024-08-14T14:31:49.256Z"
   },
   {
    "duration": 116,
    "start_time": "2024-08-14T14:33:43.201Z"
   },
   {
    "duration": 4,
    "start_time": "2024-08-14T21:02:07.275Z"
   },
   {
    "duration": 8,
    "start_time": "2024-08-14T21:02:44.293Z"
   },
   {
    "duration": 679,
    "start_time": "2024-08-14T21:06:02.038Z"
   },
   {
    "duration": 7,
    "start_time": "2024-08-14T21:06:31.992Z"
   },
   {
    "duration": 24,
    "start_time": "2024-08-14T21:06:34.946Z"
   },
   {
    "duration": 25,
    "start_time": "2024-08-14T21:06:35.290Z"
   },
   {
    "duration": 6,
    "start_time": "2024-08-14T21:08:11.280Z"
   },
   {
    "duration": 7,
    "start_time": "2024-08-14T21:08:21.802Z"
   },
   {
    "duration": 6,
    "start_time": "2024-08-14T21:08:25.373Z"
   },
   {
    "duration": 6,
    "start_time": "2024-08-14T21:08:49.313Z"
   },
   {
    "duration": 7,
    "start_time": "2024-08-14T21:09:18.674Z"
   },
   {
    "duration": 89,
    "start_time": "2024-08-14T21:09:32.323Z"
   },
   {
    "duration": 4,
    "start_time": "2024-08-14T21:09:39.971Z"
   },
   {
    "duration": 8,
    "start_time": "2024-08-14T21:09:40.579Z"
   },
   {
    "duration": 6,
    "start_time": "2024-08-14T21:09:41.329Z"
   },
   {
    "duration": 27,
    "start_time": "2024-08-14T21:10:13.068Z"
   },
   {
    "duration": 7,
    "start_time": "2024-08-14T21:10:50.309Z"
   },
   {
    "duration": 6,
    "start_time": "2024-08-14T21:11:16.843Z"
   },
   {
    "duration": 7,
    "start_time": "2024-08-14T21:11:23.734Z"
   },
   {
    "duration": 6,
    "start_time": "2024-08-14T21:11:32.888Z"
   },
   {
    "duration": 116,
    "start_time": "2024-08-14T21:16:11.498Z"
   },
   {
    "duration": 6,
    "start_time": "2024-08-14T21:16:29.031Z"
   },
   {
    "duration": 42,
    "start_time": "2024-08-14T21:25:59.220Z"
   },
   {
    "duration": 207,
    "start_time": "2024-08-14T21:29:13.314Z"
   },
   {
    "duration": 28,
    "start_time": "2024-08-14T21:32:39.338Z"
   },
   {
    "duration": 17,
    "start_time": "2024-08-14T21:37:04.129Z"
   },
   {
    "duration": 16,
    "start_time": "2024-08-14T21:37:28.400Z"
   },
   {
    "duration": 14,
    "start_time": "2024-08-14T21:37:52.769Z"
   },
   {
    "duration": 14,
    "start_time": "2024-08-14T21:37:56.912Z"
   },
   {
    "duration": 29,
    "start_time": "2024-08-14T21:39:04.336Z"
   },
   {
    "duration": 34,
    "start_time": "2024-08-14T21:40:00.866Z"
   },
   {
    "duration": 225,
    "start_time": "2024-08-14T21:43:30.482Z"
   },
   {
    "duration": 283,
    "start_time": "2024-08-14T21:44:22.633Z"
   },
   {
    "duration": 225,
    "start_time": "2024-08-14T21:45:12.789Z"
   },
   {
    "duration": 443,
    "start_time": "2024-08-14T21:45:23.670Z"
   },
   {
    "duration": 8,
    "start_time": "2024-08-14T21:46:21.578Z"
   },
   {
    "duration": 60,
    "start_time": "2024-08-14T21:51:05.090Z"
   },
   {
    "duration": 222,
    "start_time": "2024-08-14T21:52:04.718Z"
   },
   {
    "duration": 333,
    "start_time": "2024-08-14T21:53:52.084Z"
   },
   {
    "duration": 362,
    "start_time": "2024-08-14T21:54:07.254Z"
   },
   {
    "duration": 17,
    "start_time": "2024-08-14T21:54:15.979Z"
   },
   {
    "duration": 10,
    "start_time": "2024-08-14T21:54:49.099Z"
   },
   {
    "duration": 229,
    "start_time": "2024-08-14T21:56:25.050Z"
   },
   {
    "duration": 11,
    "start_time": "2024-08-14T21:56:53.470Z"
   },
   {
    "duration": 5252,
    "start_time": "2024-08-15T13:51:04.277Z"
   },
   {
    "duration": 508,
    "start_time": "2024-08-15T13:51:09.533Z"
   },
   {
    "duration": 17,
    "start_time": "2024-08-15T13:51:10.045Z"
   },
   {
    "duration": 39,
    "start_time": "2024-08-15T13:51:10.065Z"
   },
   {
    "duration": 63,
    "start_time": "2024-08-15T13:51:10.108Z"
   },
   {
    "duration": 13,
    "start_time": "2024-08-15T13:51:10.191Z"
   },
   {
    "duration": 12,
    "start_time": "2024-08-15T13:51:18.111Z"
   },
   {
    "duration": 17,
    "start_time": "2024-08-15T13:51:18.571Z"
   },
   {
    "duration": 62,
    "start_time": "2024-08-15T13:51:19.654Z"
   },
   {
    "duration": 12,
    "start_time": "2024-08-15T13:51:21.040Z"
   },
   {
    "duration": 17,
    "start_time": "2024-08-15T13:51:21.639Z"
   },
   {
    "duration": 72,
    "start_time": "2024-08-15T13:51:22.435Z"
   },
   {
    "duration": 15,
    "start_time": "2024-08-15T13:51:23.687Z"
   },
   {
    "duration": 18,
    "start_time": "2024-08-15T13:51:24.276Z"
   },
   {
    "duration": 64,
    "start_time": "2024-08-15T13:51:24.813Z"
   },
   {
    "duration": 18,
    "start_time": "2024-08-15T13:51:28.097Z"
   },
   {
    "duration": 46,
    "start_time": "2024-08-15T13:51:28.946Z"
   },
   {
    "duration": 4,
    "start_time": "2024-08-15T13:51:29.686Z"
   },
   {
    "duration": 7,
    "start_time": "2024-08-15T13:51:30.433Z"
   },
   {
    "duration": 134,
    "start_time": "2024-08-15T13:58:01.557Z"
   },
   {
    "duration": 5,
    "start_time": "2024-08-15T14:00:29.366Z"
   },
   {
    "duration": 6,
    "start_time": "2024-08-15T14:01:34.248Z"
   },
   {
    "duration": 421,
    "start_time": "2024-08-15T14:05:24.944Z"
   },
   {
    "duration": 4,
    "start_time": "2024-08-15T14:05:36.168Z"
   },
   {
    "duration": 367,
    "start_time": "2024-08-15T14:05:36.408Z"
   },
   {
    "duration": 14,
    "start_time": "2024-08-15T14:05:36.778Z"
   },
   {
    "duration": 18,
    "start_time": "2024-08-15T14:05:36.829Z"
   },
   {
    "duration": 71,
    "start_time": "2024-08-15T14:05:37.111Z"
   },
   {
    "duration": 13,
    "start_time": "2024-08-15T14:05:37.641Z"
   },
   {
    "duration": 21,
    "start_time": "2024-08-15T14:05:37.911Z"
   },
   {
    "duration": 65,
    "start_time": "2024-08-15T14:05:38.116Z"
   },
   {
    "duration": 13,
    "start_time": "2024-08-15T14:05:38.509Z"
   },
   {
    "duration": 19,
    "start_time": "2024-08-15T14:05:38.742Z"
   },
   {
    "duration": 82,
    "start_time": "2024-08-15T14:05:38.941Z"
   },
   {
    "duration": 17,
    "start_time": "2024-08-15T14:05:39.645Z"
   },
   {
    "duration": 16,
    "start_time": "2024-08-15T14:05:40.126Z"
   },
   {
    "duration": 5,
    "start_time": "2024-08-15T14:05:40.539Z"
   },
   {
    "duration": 6,
    "start_time": "2024-08-15T14:05:40.914Z"
   },
   {
    "duration": 63,
    "start_time": "2024-08-15T14:05:41.748Z"
   },
   {
    "duration": 4,
    "start_time": "2024-08-15T14:05:42.837Z"
   },
   {
    "duration": 6,
    "start_time": "2024-08-15T14:05:43.285Z"
   },
   {
    "duration": 100,
    "start_time": "2024-08-15T14:05:45.020Z"
   },
   {
    "duration": 201,
    "start_time": "2024-08-15T14:05:47.206Z"
   },
   {
    "duration": 38,
    "start_time": "2024-08-15T14:09:58.154Z"
   },
   {
    "duration": 405,
    "start_time": "2024-08-15T14:11:17.991Z"
   },
   {
    "duration": 61,
    "start_time": "2024-08-15T14:16:04.535Z"
   },
   {
    "duration": 205,
    "start_time": "2024-08-15T14:16:17.599Z"
   },
   {
    "duration": 7,
    "start_time": "2024-08-15T14:16:26.500Z"
   },
   {
    "duration": 259,
    "start_time": "2024-08-15T14:16:35.717Z"
   },
   {
    "duration": 10,
    "start_time": "2024-08-15T14:16:40.213Z"
   },
   {
    "duration": 5240,
    "start_time": "2024-08-19T14:07:30.786Z"
   },
   {
    "duration": 476,
    "start_time": "2024-08-19T14:11:00.534Z"
   },
   {
    "duration": 5,
    "start_time": "2024-08-19T14:11:09.973Z"
   },
   {
    "duration": 509,
    "start_time": "2024-08-19T14:11:10.199Z"
   },
   {
    "duration": 17,
    "start_time": "2024-08-19T14:11:10.711Z"
   },
   {
    "duration": 19,
    "start_time": "2024-08-19T14:11:10.731Z"
   },
   {
    "duration": 62,
    "start_time": "2024-08-19T14:11:11.326Z"
   },
   {
    "duration": 11,
    "start_time": "2024-08-19T14:11:11.757Z"
   },
   {
    "duration": 17,
    "start_time": "2024-08-19T14:11:11.958Z"
   },
   {
    "duration": 58,
    "start_time": "2024-08-19T14:11:12.176Z"
   },
   {
    "duration": 12,
    "start_time": "2024-08-19T14:11:12.564Z"
   },
   {
    "duration": 19,
    "start_time": "2024-08-19T14:11:12.757Z"
   },
   {
    "duration": 64,
    "start_time": "2024-08-19T14:11:12.957Z"
   },
   {
    "duration": 18,
    "start_time": "2024-08-19T14:11:15.684Z"
   },
   {
    "duration": 15,
    "start_time": "2024-08-19T14:11:17.440Z"
   },
   {
    "duration": 25,
    "start_time": "2024-08-19T14:11:18.620Z"
   },
   {
    "duration": 5,
    "start_time": "2024-08-19T14:11:20.436Z"
   },
   {
    "duration": 6,
    "start_time": "2024-08-19T14:11:21.620Z"
   },
   {
    "duration": 136,
    "start_time": "2024-08-19T14:11:27.590Z"
   }
  ],
  "kernelspec": {
   "display_name": "Python 3 (ipykernel)",
   "language": "python",
   "name": "python3"
  },
  "language_info": {
   "codemirror_mode": {
    "name": "ipython",
    "version": 3
   },
   "file_extension": ".py",
   "mimetype": "text/x-python",
   "name": "python",
   "nbconvert_exporter": "python",
   "pygments_lexer": "ipython3",
   "version": "3.9.19"
  },
  "toc": {
   "base_numbering": 1,
   "nav_menu": {},
   "number_sections": true,
   "sideBar": true,
   "skip_h1_title": true,
   "title_cell": "Table of Contents",
   "title_sidebar": "Contents",
   "toc_cell": false,
   "toc_position": {},
   "toc_section_display": true,
   "toc_window_display": false
  }
 },
 "nbformat": 4,
 "nbformat_minor": 2
}
